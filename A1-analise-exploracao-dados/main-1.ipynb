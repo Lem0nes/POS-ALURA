{
 "cells": [
  {
   "cell_type": "code",
   "execution_count": 307,
   "metadata": {},
   "outputs": [],
   "source": [
    "import pandas as pd\n",
    "import matplotlib.ticker as ticker\n",
    "import matplotlib.pyplot as plt\n",
    "import numpy as np"
   ]
  },
  {
   "cell_type": "code",
   "execution_count": 308,
   "metadata": {},
   "outputs": [],
   "source": [
    "dados = pd.read_csv(r\"C:\\Users\\Gustavo1\\Documents\\Programming_codes\\POS-ALURA\\A1-analise-exploracao-dados\\bases\\A150850189_28_143_208.csv\", encoding=\"utf-8-sig\",\n",
    "            skiprows=3, sep=\";\", skipfooter=12, thousands=\".\", decimal=\",\", engine=\"python\")\n",
    "\n",
    "pd.set_option('display.float_format','{:.2f}'.format)\n",
    "#pd.get_option('float_format', \"{:.2f}\".format())"
   ]
  },
  {
   "cell_type": "code",
   "execution_count": null,
   "metadata": {},
   "outputs": [],
   "source": [
    "#dados['2021/Set'].mean(numeric_only=True)\n",
    "dados = dados.rename({dados.columns[0]:'UF'}, axis='columns')\n",
    "dados.head"
   ]
  },
  {
   "cell_type": "code",
   "execution_count": null,
   "metadata": {},
   "outputs": [],
   "source": [
    "dados.plot(x='UF', y='2008/Jan')"
   ]
  },
  {
   "cell_type": "code",
   "execution_count": null,
   "metadata": {},
   "outputs": [],
   "source": [
    "axis = dados.plot(x='UF', y='2008/Jan', kind='bar', figsize=(10,5))\n",
    "axis.yaxis.set_major_formatter(ticker.StrMethodFormatter('{x:,.2f}'))\n",
    "plt.title(\"Valor por UF\")\n",
    "plt.xticks(rotation= 45)\n",
    "plt.show()"
   ]
  },
  {
   "cell_type": "markdown",
   "metadata": {},
   "source": [
    "### Desafio 1: Executar o comando anterior com os dados mais recentes na base\n",
    "### Desafio 2: Deixar as legendas ânguladas (45, 90, etc) para facilitar a leitura"
   ]
  },
  {
   "cell_type": "code",
   "execution_count": null,
   "metadata": {},
   "outputs": [],
   "source": [
    "axis = dados.plot(x='UF', y='2021/Set', kind='bar', figsize=(10,5))\n",
    "axis.yaxis.set_major_formatter(ticker.StrMethodFormatter('{x:,.2f}'))\n",
    "plt.title(\"Valor por UF\")\n",
    "plt.show()"
   ]
  },
  {
   "cell_type": "code",
   "execution_count": null,
   "metadata": {},
   "outputs": [],
   "source": [
    "dados[['2008/Ago', '2008/Set']].head()"
   ]
  },
  {
   "cell_type": "code",
   "execution_count": null,
   "metadata": {},
   "outputs": [],
   "source": [
    "colunas_usaveis = dados.mean(numeric_only=True).index.tolist()\n",
    "colunas_usaveis.insert(0, 'UF')\n",
    "colunas_usaveis[:5]"
   ]
  },
  {
   "cell_type": "code",
   "execution_count": null,
   "metadata": {},
   "outputs": [],
   "source": [
    "dados_usaveis = dados[colunas_usaveis]\n",
    "dados_usaveis.head()"
   ]
  },
  {
   "cell_type": "code",
   "execution_count": null,
   "metadata": {},
   "outputs": [],
   "source": [
    "dados_usaveis = dados_usaveis.set_index('UF')\n",
    "dados_usaveis.head()"
   ]
  },
  {
   "cell_type": "code",
   "execution_count": null,
   "metadata": {},
   "outputs": [],
   "source": [
    "dados_usaveis['2009/Ago'].head()"
   ]
  },
  {
   "cell_type": "code",
   "execution_count": 290,
   "metadata": {},
   "outputs": [
    {
     "data": {
      "text/plain": [
       "2007/Ago       10470.07\n",
       "2007/Set       14001.71\n",
       "2007/Out       86200.85\n",
       "2007/Nov      301323.68\n",
       "2007/Dez      769612.36\n",
       "               ...     \n",
       "2021/Jun     3458187.11\n",
       "2021/Jul     2302711.01\n",
       "2021/Ago     1196754.85\n",
       "2021/Set           0.00\n",
       "Total      475290315.34\n",
       "Name: 12 Acre, Length: 171, dtype: float64"
      ]
     },
     "execution_count": 290,
     "metadata": {},
     "output_type": "execute_result"
    }
   ],
   "source": [
    "dados_usaveis.loc['12 Acre']"
   ]
  },
  {
   "cell_type": "code",
   "execution_count": 291,
   "metadata": {},
   "outputs": [
    {
     "data": {
      "text/plain": [
       "2007/Ago       10470.07\n",
       "2007/Set       14001.71\n",
       "2007/Out       86200.85\n",
       "2007/Nov      301323.68\n",
       "2007/Dez      769612.36\n",
       "               ...     \n",
       "2021/Jun     3458187.11\n",
       "2021/Jul     2302711.01\n",
       "2021/Ago     1196754.85\n",
       "2021/Set           0.00\n",
       "Total      475290315.34\n",
       "Name: 12 Acre, Length: 171, dtype: float64"
      ]
     },
     "execution_count": 291,
     "metadata": {},
     "output_type": "execute_result"
    }
   ],
   "source": [
    "dados_usaveis.iloc[1]"
   ]
  },
  {
   "cell_type": "code",
   "execution_count": null,
   "metadata": {},
   "outputs": [],
   "source": [
    "# Vai exibir um gráfico com uma legenda imensa, pois existe muitas colunas\n",
    "dados_usaveis.plot(figsize=(12,6))"
   ]
  },
  {
   "cell_type": "code",
   "execution_count": null,
   "metadata": {},
   "outputs": [],
   "source": [
    "# O metodo \" T \", transpoem as colunas e linhas, basicamente inverte as colunas com as linhas\n",
    "dados_usaveis.T.plot(figsize=(12,6))"
   ]
  },
  {
   "cell_type": "code",
   "execution_count": null,
   "metadata": {},
   "outputs": [],
   "source": [
    "dados_usaveis = dados_usaveis.drop('Total', axis=1)\n",
    "dados_usaveis.tail()"
   ]
  },
  {
   "cell_type": "code",
   "execution_count": null,
   "metadata": {},
   "outputs": [],
   "source": [
    "dados_usaveis.T.plot(figsize=(12,6))\n",
    "plt.show()"
   ]
  },
  {
   "cell_type": "markdown",
   "metadata": {},
   "source": [
    "### Desafio 3: reposicionar a legenda. Dentro? Fora? Onde?\n",
    "### Desafio 4: Retocar o título da visualização\n",
    "### Desafio 5: Adicionar títulos aos dois eixos"
   ]
  },
  {
   "cell_type": "code",
   "execution_count": null,
   "metadata": {},
   "outputs": [],
   "source": [
    "dados_usaveis.T.plot(figsize=(12,6))\n",
    "plt.legend(bbox_to_anchor=(1.25, 1.015),loc='upper right') # Desafio 3\n",
    "plt.title('Gastos por UF no decorrer dos anos') # Desafio 4\n",
    "# Desafio 5\n",
    "plt.xlabel('Período') \n",
    "plt.ylabel('Valor Gasto')\n",
    "plt.show()"
   ]
  },
  {
   "cell_type": "code",
   "execution_count": null,
   "metadata": {},
   "outputs": [],
   "source": [
    "dados_usaveis.T.columns[:5]"
   ]
  },
  {
   "cell_type": "code",
   "execution_count": null,
   "metadata": {},
   "outputs": [],
   "source": [
    "dados_usaveis[:7].T.plot(figsize=(10,6))\n",
    "plt.show()"
   ]
  },
  {
   "cell_type": "code",
   "execution_count": null,
   "metadata": {},
   "outputs": [],
   "source": [
    "dados_usaveis.sample(n=7)"
   ]
  },
  {
   "cell_type": "code",
   "execution_count": null,
   "metadata": {},
   "outputs": [],
   "source": [
    "dados_usaveis.sample(7).T.plot(figsize=(10,6))"
   ]
  },
  {
   "cell_type": "code",
   "execution_count": null,
   "metadata": {},
   "outputs": [],
   "source": [
    "np.random.seed(42)\n",
    "dados_usaveis.sample(n=7)"
   ]
  },
  {
   "cell_type": "code",
   "execution_count": null,
   "metadata": {},
   "outputs": [],
   "source": [
    "dados_usaveis.sample(7).T.plot(figsize=(10,6))"
   ]
  },
  {
   "cell_type": "code",
   "execution_count": null,
   "metadata": {},
   "outputs": [],
   "source": [
    "dados_usaveis['Total'] = dados_usaveis.sum(axis=1)\n",
    "np.random.seed(42)\n",
    "dados_usaveis.head(7)"
   ]
  },
  {
   "cell_type": "markdown",
   "metadata": {},
   "source": [
    "##### Desafio 6: Ordernar dataframe com base na coluna total, para que na primeira tenha a linha com maior gasto, e na última coluna com menor gasto (ordenação)\n",
    "##### Desafio 7: adicionar uma coluna com a região de cada estado\n",
    "##### Desafio 8: adicione seu estado nessa lista de 7 estados"
   ]
  },
  {
   "cell_type": "code",
   "execution_count": null,
   "metadata": {},
   "outputs": [],
   "source": [
    "# Concluir código do desafio 7\n",
    "df_teste = dados_usaveis.copy(deep=True)\n",
    "dados_usaveis['Região'] = None\n",
    "for i in range(len(dados_usaveis.index)):\n",
    "    #x = int(dados_usaveis.index[i][:2])\n",
    "    if int(dados_usaveis.index[i][:2]) >= 11 and int(dados_usaveis.index[i][:2]) <= 16:\n",
    "        dados_usaveis.iloc[[i][:2], -1] = 'Norte'\n",
    "    elif int(dados_usaveis.index[i][:2]) >= 17 and int(dados_usaveis.index[i][:2]) <= 29:\n",
    "        dados_usaveis.iloc[[i][:2], -1]  = 'Nordeste'\n",
    "    elif int(dados_usaveis.index[i][:2]) >= 31 and int(dados_usaveis.index[i][:2]) <= 35:\n",
    "        dados_usaveis.iloc[[i][:2], -1]  = 'Sudeste'\n",
    "    elif int(dados_usaveis.index[i][:2]) >= 41 and int(dados_usaveis.index[i][:2]) <= 50:\n",
    "        dados_usaveis.iloc[[i][:2], -1] = 'Sul'\n",
    "    else:\n",
    "        dados_usaveis.iloc[[i][:2], -1]  = 'Centro-Oeste'\n",
    "\n",
    "dados_usaveis.iloc[:,-1]"
   ]
  },
  {
   "cell_type": "code",
   "execution_count": null,
   "metadata": {},
   "outputs": [],
   "source": [
    "np.random.seed(42)\n",
    "dados_dos_7_estados = dados_usaveis.sample(7)\n",
    "\n",
    "# Desafio 8\n",
    "dados_dos_7_estados.loc[7] = dados_usaveis.loc['35 São Paulo']\n",
    "dados_dos_7_estados = dados_dos_7_estados.rename(index={7:'35 São Paulo'})\n",
    "\n",
    "# Desafio 6\n",
    "dados_dos_7_estados.sort_values(by='Total', ascending=False)"
   ]
  },
  {
   "cell_type": "code",
   "execution_count": null,
   "metadata": {},
   "outputs": [],
   "source": [
    "ordenados_por_total = dados_dos_7_estados\n",
    "ordenados_por_total = ordenados_por_total.drop('Total', axis=1)\n",
    "ordenados_por_total"
   ]
  },
  {
   "cell_type": "code",
   "execution_count": null,
   "metadata": {},
   "outputs": [],
   "source": [
    "colunas_interessantes = ordenados_por_total.columns[6:]\n",
    "ordenados_por_total = ordenados_por_total[colunas_interessantes]\n",
    "ordenados_por_total"
   ]
  },
  {
   "cell_type": "code",
   "execution_count": null,
   "metadata": {},
   "outputs": [],
   "source": [
    "ordenados_por_total.T.plot(figsize=(10,6))"
   ]
  },
  {
   "cell_type": "markdown",
   "metadata": {},
   "source": [
    "##### Desafio 9: Formatar o gráfico (titulo, legenda, eixos, rotulos, valores)\n",
    "##### Desafio 10: Pesquisar a função sort_index\n",
    "##### Desafio 11: Pesquisar os casos de dengue no Brasil e verificar se existe algum padrão com os gastos encontrados aqui\n",
    "##### Desafio 12: Plotar apenas os dados de uma região do brasil"
   ]
  },
  {
   "cell_type": "code",
   "execution_count": 345,
   "metadata": {},
   "outputs": [
    {
     "data": {
      "text/plain": [
       "2008/Fev    float64\n",
       "2008/Mar    float64\n",
       "2008/Abr    float64\n",
       "2008/Mai    float64\n",
       "2008/Jun    float64\n",
       "             ...   \n",
       "2021/Jun    float64\n",
       "2021/Jul    float64\n",
       "2021/Ago    float64\n",
       "2021/Set    float64\n",
       "Região       object\n",
       "Length: 165, dtype: object"
      ]
     },
     "execution_count": 345,
     "metadata": {},
     "output_type": "execute_result"
    }
   ],
   "source": [
    "np.random.seed(42)\n",
    "ordenados_por_total.iloc[:,:-2] = ordenados_por_total.iloc[:,:-2].astype(float)\n",
    "ordenados_por_total.dtypes\n",
    "#ordenados_por_total.T.iloc[:5].plot(figsize=(10,6))"
   ]
  },
  {
   "cell_type": "code",
   "execution_count": 338,
   "metadata": {},
   "outputs": [
    {
     "ename": "TypeError",
     "evalue": "no numeric data to plot",
     "output_type": "error",
     "traceback": [
      "\u001b[1;31m---------------------------------------------------------------------------\u001b[0m",
      "\u001b[1;31mTypeError\u001b[0m                                 Traceback (most recent call last)",
      "Cell \u001b[1;32mIn[338], line 2\u001b[0m\n\u001b[0;32m      1\u001b[0m np\u001b[38;5;241m.\u001b[39mrandom\u001b[38;5;241m.\u001b[39mseed(\u001b[38;5;241m42\u001b[39m)\n\u001b[1;32m----> 2\u001b[0m \u001b[43mordenados_por_total\u001b[49m\u001b[38;5;241;43m.\u001b[39;49m\u001b[43mT\u001b[49m\u001b[38;5;241;43m.\u001b[39;49m\u001b[43mplot\u001b[49m\u001b[43m(\u001b[49m\u001b[43mfigsize\u001b[49m\u001b[38;5;241;43m=\u001b[39;49m\u001b[43m(\u001b[49m\u001b[38;5;241;43m10\u001b[39;49m\u001b[43m,\u001b[49m\u001b[38;5;241;43m6\u001b[39;49m\u001b[43m)\u001b[49m\u001b[43m)\u001b[49m\n\u001b[0;32m      4\u001b[0m \u001b[38;5;66;03m# Formatação eixo Y\u001b[39;00m\n\u001b[0;32m      5\u001b[0m current_values \u001b[38;5;241m=\u001b[39m plt\u001b[38;5;241m.\u001b[39mgca()\u001b[38;5;241m.\u001b[39mget_yticks() \u001b[38;5;66;03m# Armazena valores do eixo Y\u001b[39;00m\n",
      "File \u001b[1;32mc:\\Users\\Gustavo1\\Documents\\Programming_codes\\POS-ALURA\\alura-venv\\Lib\\site-packages\\pandas\\plotting\\_core.py:1030\u001b[0m, in \u001b[0;36mPlotAccessor.__call__\u001b[1;34m(self, *args, **kwargs)\u001b[0m\n\u001b[0;32m   1027\u001b[0m             label_name \u001b[38;5;241m=\u001b[39m label_kw \u001b[38;5;129;01mor\u001b[39;00m data\u001b[38;5;241m.\u001b[39mcolumns\n\u001b[0;32m   1028\u001b[0m             data\u001b[38;5;241m.\u001b[39mcolumns \u001b[38;5;241m=\u001b[39m label_name\n\u001b[1;32m-> 1030\u001b[0m \u001b[38;5;28;01mreturn\u001b[39;00m \u001b[43mplot_backend\u001b[49m\u001b[38;5;241;43m.\u001b[39;49m\u001b[43mplot\u001b[49m\u001b[43m(\u001b[49m\u001b[43mdata\u001b[49m\u001b[43m,\u001b[49m\u001b[43m \u001b[49m\u001b[43mkind\u001b[49m\u001b[38;5;241;43m=\u001b[39;49m\u001b[43mkind\u001b[49m\u001b[43m,\u001b[49m\u001b[43m \u001b[49m\u001b[38;5;241;43m*\u001b[39;49m\u001b[38;5;241;43m*\u001b[39;49m\u001b[43mkwargs\u001b[49m\u001b[43m)\u001b[49m\n",
      "File \u001b[1;32mc:\\Users\\Gustavo1\\Documents\\Programming_codes\\POS-ALURA\\alura-venv\\Lib\\site-packages\\pandas\\plotting\\_matplotlib\\__init__.py:71\u001b[0m, in \u001b[0;36mplot\u001b[1;34m(data, kind, **kwargs)\u001b[0m\n\u001b[0;32m     69\u001b[0m         kwargs[\u001b[38;5;124m\"\u001b[39m\u001b[38;5;124max\u001b[39m\u001b[38;5;124m\"\u001b[39m] \u001b[38;5;241m=\u001b[39m \u001b[38;5;28mgetattr\u001b[39m(ax, \u001b[38;5;124m\"\u001b[39m\u001b[38;5;124mleft_ax\u001b[39m\u001b[38;5;124m\"\u001b[39m, ax)\n\u001b[0;32m     70\u001b[0m plot_obj \u001b[38;5;241m=\u001b[39m PLOT_CLASSES[kind](data, \u001b[38;5;241m*\u001b[39m\u001b[38;5;241m*\u001b[39mkwargs)\n\u001b[1;32m---> 71\u001b[0m \u001b[43mplot_obj\u001b[49m\u001b[38;5;241;43m.\u001b[39;49m\u001b[43mgenerate\u001b[49m\u001b[43m(\u001b[49m\u001b[43m)\u001b[49m\n\u001b[0;32m     72\u001b[0m plot_obj\u001b[38;5;241m.\u001b[39mdraw()\n\u001b[0;32m     73\u001b[0m \u001b[38;5;28;01mreturn\u001b[39;00m plot_obj\u001b[38;5;241m.\u001b[39mresult\n",
      "File \u001b[1;32mc:\\Users\\Gustavo1\\Documents\\Programming_codes\\POS-ALURA\\alura-venv\\Lib\\site-packages\\pandas\\plotting\\_matplotlib\\core.py:499\u001b[0m, in \u001b[0;36mMPLPlot.generate\u001b[1;34m(self)\u001b[0m\n\u001b[0;32m    497\u001b[0m \u001b[38;5;129m@final\u001b[39m\n\u001b[0;32m    498\u001b[0m \u001b[38;5;28;01mdef\u001b[39;00m \u001b[38;5;21mgenerate\u001b[39m(\u001b[38;5;28mself\u001b[39m) \u001b[38;5;241m-\u001b[39m\u001b[38;5;241m>\u001b[39m \u001b[38;5;28;01mNone\u001b[39;00m:\n\u001b[1;32m--> 499\u001b[0m     \u001b[38;5;28;43mself\u001b[39;49m\u001b[38;5;241;43m.\u001b[39;49m\u001b[43m_compute_plot_data\u001b[49m\u001b[43m(\u001b[49m\u001b[43m)\u001b[49m\n\u001b[0;32m    500\u001b[0m     fig \u001b[38;5;241m=\u001b[39m \u001b[38;5;28mself\u001b[39m\u001b[38;5;241m.\u001b[39mfig\n\u001b[0;32m    501\u001b[0m     \u001b[38;5;28mself\u001b[39m\u001b[38;5;241m.\u001b[39m_make_plot(fig)\n",
      "File \u001b[1;32mc:\\Users\\Gustavo1\\Documents\\Programming_codes\\POS-ALURA\\alura-venv\\Lib\\site-packages\\pandas\\plotting\\_matplotlib\\core.py:698\u001b[0m, in \u001b[0;36mMPLPlot._compute_plot_data\u001b[1;34m(self)\u001b[0m\n\u001b[0;32m    696\u001b[0m \u001b[38;5;66;03m# no non-numeric frames or series allowed\u001b[39;00m\n\u001b[0;32m    697\u001b[0m \u001b[38;5;28;01mif\u001b[39;00m is_empty:\n\u001b[1;32m--> 698\u001b[0m     \u001b[38;5;28;01mraise\u001b[39;00m \u001b[38;5;167;01mTypeError\u001b[39;00m(\u001b[38;5;124m\"\u001b[39m\u001b[38;5;124mno numeric data to plot\u001b[39m\u001b[38;5;124m\"\u001b[39m)\n\u001b[0;32m    700\u001b[0m \u001b[38;5;28mself\u001b[39m\u001b[38;5;241m.\u001b[39mdata \u001b[38;5;241m=\u001b[39m numeric_data\u001b[38;5;241m.\u001b[39mapply(\u001b[38;5;28mtype\u001b[39m(\u001b[38;5;28mself\u001b[39m)\u001b[38;5;241m.\u001b[39m_convert_to_ndarray)\n",
      "\u001b[1;31mTypeError\u001b[0m: no numeric data to plot"
     ]
    }
   ],
   "source": [
    "np.random.seed(42)\n",
    "ordenados_por_total.T.iloc[:20,:].plot(figsize=(10,6))\n",
    "\n",
    "# Formatação eixo Y\n",
    "current_values = plt.gca().get_yticks() # Armazena valores do eixo Y\n",
    "plt.gca().set_yticklabels(['R${:,.0f}'.format(x) for x in current_values]) # Formata e configura rotulo do eixo Y\n",
    "\n",
    "plt.title('Gasto total com saúde por mês/ano')\n",
    "plt.legend(bbox_to_anchor=(1.25, 1.015), loc='upper right')\n",
    "plt.xlabel('Período')\n",
    "plt.ylabel('Valor Gasto')\n",
    "plt.show()"
   ]
  },
  {
   "cell_type": "code",
   "execution_count": 335,
   "metadata": {},
   "outputs": [
    {
     "data": {
      "text/plain": [
       "<Axes: >"
      ]
     },
     "execution_count": 335,
     "metadata": {},
     "output_type": "execute_result"
    },
    {
     "data": {
      "image/png": "[encoded data removed]",
      "text/plain": [
       "<Figure size 800x400 with 1 Axes>"
      ]
     },
     "metadata": {},
     "output_type": "display_data"
    }
   ],
   "source": [
    "regiao_especifica = ordenados_por_total[ordenados_por_total['Região'] == 'Sul']\n",
    "regiao_especifica.T.iloc[:10,:].plot(figsize=(8,4))"
   ]
  }
 ],
 "metadata": {
  "kernelspec": {
   "display_name": "alura-pos",
   "language": "python",
   "name": "python3"
  },
  "language_info": {
   "codemirror_mode": {
    "name": "ipython",
    "version": 3
   },
   "file_extension": ".py",
   "mimetype": "text/x-python",
   "name": "python",
   "nbconvert_exporter": "python",
   "pygments_lexer": "ipython3",
   "version": "3.12.2"
  }
 },
 "nbformat": 4,
 "nbformat_minor": 2
}
