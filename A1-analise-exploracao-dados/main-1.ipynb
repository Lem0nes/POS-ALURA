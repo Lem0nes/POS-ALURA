{
 "cells": [
  {
   "cell_type": "code",
   "execution_count": null,
   "metadata": {},
   "outputs": [],
   "source": [
    "import pandas as pd\n",
    "import matplotlib.ticker as ticker\n",
    "import matplotlib.pyplot as plt\n",
    "import numpy as np"
   ]
  },
  {
   "cell_type": "code",
   "execution_count": null,
   "metadata": {},
   "outputs": [],
   "source": [
    "dados = pd.read_csv(r\"C:\\Users\\Gustavo1\\Documents\\Programming_codes\\POS-ALURA\\A1-analise-exploracao-dados\\bases\\A150850189_28_143_208.csv\", encoding=\"utf-8-sig\",\n",
    "            skiprows=3, sep=\";\", skipfooter=12, thousands=\".\", decimal=\",\", engine=\"python\")\n",
    "\n",
    "pd.set_option('display.float_format','{:.2f}'.format)\n",
    "#pd.get_option('float_format', \"{:.2f}\".format())"
   ]
  },
  {
   "cell_type": "code",
   "execution_count": null,
   "metadata": {},
   "outputs": [],
   "source": [
    "#dados['2021/Set'].mean(numeric_only=True)\n",
    "dados = dados.rename({dados.columns[0]:'UF'}, axis='columns')\n",
    "dados.head"
   ]
  },
  {
   "cell_type": "code",
   "execution_count": null,
   "metadata": {},
   "outputs": [],
   "source": [
    "dados.plot(x='UF', y='2008/Jan')"
   ]
  },
  {
   "cell_type": "code",
   "execution_count": null,
   "metadata": {},
   "outputs": [],
   "source": [
    "axis = dados.plot(x='UF', y='2008/Jan', kind='bar', figsize=(10,5))\n",
    "axis.yaxis.set_major_formatter(ticker.StrMethodFormatter('{x:,.2f}'))\n",
    "plt.title(\"Valor por UF\")\n",
    "plt.xticks(rotation= 45)\n",
    "plt.show()"
   ]
  },
  {
   "cell_type": "markdown",
   "metadata": {},
   "source": [
    "### Desafio 1: Executar o comando anterior com os dados mais recentes na base\n",
    "### Desafio 2: Deixar as legendas ânguladas (45, 90, etc) para facilitar a leitura"
   ]
  },
  {
   "cell_type": "code",
   "execution_count": null,
   "metadata": {},
   "outputs": [],
   "source": [
    "axis = dados.plot(x='UF', y='2021/Set', kind='bar', figsize=(10,5))\n",
    "axis.yaxis.set_major_formatter(ticker.StrMethodFormatter('{x:,.2f}'))\n",
    "plt.title(\"Valor por UF\")\n",
    "plt.show()"
   ]
  },
  {
   "cell_type": "code",
   "execution_count": null,
   "metadata": {},
   "outputs": [],
   "source": [
    "dados[['2008/Ago', '2008/Set']].head()"
   ]
  },
  {
   "cell_type": "code",
   "execution_count": null,
   "metadata": {},
   "outputs": [],
   "source": [
    "colunas_usaveis = dados.mean(numeric_only=True).index.tolist()\n",
    "colunas_usaveis.insert(0, 'UF')\n",
    "colunas_usaveis[:5]"
   ]
  },
  {
   "cell_type": "code",
   "execution_count": null,
   "metadata": {},
   "outputs": [],
   "source": [
    "dados_usaveis = dados[colunas_usaveis]\n",
    "dados_usaveis.head()"
   ]
  },
  {
   "cell_type": "code",
   "execution_count": null,
   "metadata": {},
   "outputs": [],
   "source": [
    "dados_usaveis = dados_usaveis.set_index('UF')\n",
    "dados_usaveis.head()"
   ]
  },
  {
   "cell_type": "code",
   "execution_count": null,
   "metadata": {},
   "outputs": [],
   "source": [
    "dados_usaveis['2009/Ago'].head()"
   ]
  },
  {
   "cell_type": "code",
   "execution_count": null,
   "metadata": {},
   "outputs": [],
   "source": [
    "dados_usaveis.loc['12 Acre']"
   ]
  },
  {
   "cell_type": "code",
   "execution_count": null,
   "metadata": {},
   "outputs": [],
   "source": [
    "dados_usaveis.iloc[1]"
   ]
  },
  {
   "cell_type": "code",
   "execution_count": null,
   "metadata": {},
   "outputs": [],
   "source": [
    "# Vai exibir um gráfico com uma legenda imensa, pois existe muitas colunas\n",
    "dados_usaveis.plot(figsize=(12,6))"
   ]
  },
  {
   "cell_type": "code",
   "execution_count": null,
   "metadata": {},
   "outputs": [],
   "source": [
    "# O metodo \" T \", transpoem as colunas e linhas, basicamente inverte as colunas com as linhas\n",
    "dados_usaveis.T.plot(figsize=(12,6))"
   ]
  },
  {
   "cell_type": "code",
   "execution_count": null,
   "metadata": {},
   "outputs": [],
   "source": [
    "dados_usaveis = dados_usaveis.drop('Total', axis=1)\n",
    "dados_usaveis.tail()"
   ]
  },
  {
   "cell_type": "code",
   "execution_count": null,
   "metadata": {},
   "outputs": [],
   "source": [
    "dados_usaveis.T.plot(figsize=(12,6))\n",
    "plt.show()"
   ]
  },
  {
   "cell_type": "markdown",
   "metadata": {},
   "source": [
    "### Desafio 3: reposicionar a legenda. Dentro? Fora? Onde?\n",
    "### Desafio 4: Retocar o título da visualização\n",
    "### Desafio 5: Adicionar títulos aos dois eixos"
   ]
  },
  {
   "cell_type": "code",
   "execution_count": null,
   "metadata": {},
   "outputs": [],
   "source": [
    "dados_usaveis.T.plot(figsize=(12,6))\n",
    "plt.legend(bbox_to_anchor=(1.25, 1.015),loc='upper right') # Desafio 3\n",
    "plt.title('Gastos por UF no decorrer dos anos') # Desafio 4\n",
    "# Desafio 5\n",
    "plt.xlabel('Período') \n",
    "plt.ylabel('Valor Gasto')\n",
    "plt.show()"
   ]
  },
  {
   "cell_type": "code",
   "execution_count": null,
   "metadata": {},
   "outputs": [],
   "source": [
    "dados_usaveis.T.columns[:5]"
   ]
  },
  {
   "cell_type": "code",
   "execution_count": null,
   "metadata": {},
   "outputs": [],
   "source": [
    "dados_usaveis[:7].T.plot(figsize=(10,6))\n",
    "plt.show()"
   ]
  },
  {
   "cell_type": "code",
   "execution_count": null,
   "metadata": {},
   "outputs": [],
   "source": [
    "dados_usaveis.sample(n=7)"
   ]
  },
  {
   "cell_type": "code",
   "execution_count": null,
   "metadata": {},
   "outputs": [],
   "source": [
    "dados_usaveis.sample(7).T.plot(figsize=(10,6))"
   ]
  },
  {
   "cell_type": "code",
   "execution_count": null,
   "metadata": {},
   "outputs": [],
   "source": [
    "np.random.seed(42)\n",
    "dados_usaveis.sample(n=7)"
   ]
  },
  {
   "cell_type": "code",
   "execution_count": null,
   "metadata": {},
   "outputs": [],
   "source": [
    "dados_usaveis.sample(7).T.plot(figsize=(10,6))"
   ]
  },
  {
   "cell_type": "code",
   "execution_count": null,
   "metadata": {},
   "outputs": [],
   "source": [
    "dados_usaveis['Total'] = dados_usaveis.sum(axis=1)\n",
    "dados_usaveis = dados_usaveis.astype(float)\n",
    "dados_usaveis = dados_usaveis/100000\n",
    "dados_usaveis.dtypes\n",
    "np.random.seed(42)\n",
    "dados_usaveis.head(5)"
   ]
  },
  {
   "cell_type": "markdown",
   "metadata": {},
   "source": [
    "##### Desafio 6: Ordernar dataframe com base na coluna total, para que na primeira tenha a linha com maior gasto, e na última coluna com menor gasto (ordenação)\n",
    "##### Desafio 7: adicionar uma coluna com a região de cada estado\n",
    "##### Desafio 8: adicione seu estado nessa lista de 7 estados"
   ]
  },
  {
   "cell_type": "code",
   "execution_count": null,
   "metadata": {},
   "outputs": [],
   "source": [
    "# Concluir código do desafio 7\n",
    "df_teste = dados_usaveis.copy(deep=True)\n",
    "dados_usaveis['Região'] = None\n",
    "for i in range(len(dados_usaveis.index)):\n",
    "    #x = int(dados_usaveis.index[i][:2])\n",
    "    if int(dados_usaveis.index[i][:2]) >= 11 and int(dados_usaveis.index[i][:2]) <= 16:\n",
    "        dados_usaveis.iloc[[i][:2], -1] = 'Norte'\n",
    "    elif int(dados_usaveis.index[i][:2]) >= 17 and int(dados_usaveis.index[i][:2]) <= 29:\n",
    "        dados_usaveis.iloc[[i][:2], -1]  = 'Nordeste'\n",
    "    elif int(dados_usaveis.index[i][:2]) >= 31 and int(dados_usaveis.index[i][:2]) <= 35:\n",
    "        dados_usaveis.iloc[[i][:2], -1]  = 'Sudeste'\n",
    "    elif int(dados_usaveis.index[i][:2]) >= 41 and int(dados_usaveis.index[i][:2]) <= 50:\n",
    "        dados_usaveis.iloc[[i][:2], -1] = 'Sul'\n",
    "    else:\n",
    "        dados_usaveis.iloc[[i][:2], -1]  = 'Centro-Oeste'\n",
    "\n",
    "dados_usaveis.iloc[:,-1]"
   ]
  },
  {
   "cell_type": "code",
   "execution_count": null,
   "metadata": {},
   "outputs": [],
   "source": [
    "np.random.seed(42)\n",
    "dados_dos_7_estados = dados_usaveis.sample(7)\n",
    "\n",
    "# Desafio 8\n",
    "dados_dos_7_estados.loc[7] = dados_usaveis.loc['35 São Paulo']\n",
    "dados_dos_7_estados = dados_dos_7_estados.rename(index={7:'35 São Paulo'})\n",
    "\n",
    "# Desafio 6\n",
    "dados_dos_7_estados.sort_values(by='Total', ascending=False)"
   ]
  },
  {
   "cell_type": "code",
   "execution_count": null,
   "metadata": {},
   "outputs": [],
   "source": [
    "ordenados_por_total = dados_dos_7_estados\n",
    "ordenados_por_total = ordenados_por_total.drop('Total', axis=1)\n",
    "ordenados_por_total"
   ]
  },
  {
   "cell_type": "code",
   "execution_count": null,
   "metadata": {},
   "outputs": [],
   "source": [
    "colunas_interessantes = ordenados_por_total.columns[6:]\n",
    "ordenados_por_total = ordenados_por_total[colunas_interessantes]\n",
    "ordenados_por_total"
   ]
  },
  {
   "cell_type": "code",
   "execution_count": null,
   "metadata": {},
   "outputs": [],
   "source": [
    "#ordenados_por_total.T = ordenados_por_total.T.astype(float)\n",
    "ordenados_por_total.T"
   ]
  },
  {
   "cell_type": "code",
   "execution_count": null,
   "metadata": {},
   "outputs": [],
   "source": [
    "ordenados_por_total.T.plot(figsize=(10,6))"
   ]
  },
  {
   "cell_type": "markdown",
   "metadata": {},
   "source": [
    "##### Desafio 9: Formatar o gráfico (titulo, legenda, eixos, rotulos, valores)\n",
    "##### Desafio 10: Pesquisar a função sort_index\n",
    "##### Desafio 11: Pesquisar os casos de dengue no Brasil e verificar se existe algum padrão com os gastos encontrados aqui\n",
    "##### Desafio 12: Plotar apenas os dados de uma região do brasil"
   ]
  },
  {
   "cell_type": "code",
   "execution_count": null,
   "metadata": {},
   "outputs": [],
   "source": [
    "np.random.seed(42)\n",
    "ordenados_por_total.iloc[:,:-2] = ordenados_por_total.iloc[:,:-2].astype(float)\n",
    "#ordenados_por_total = ordenados_por_total/100000\n",
    "ordenados_por_total.dtypes\n",
    "#ordenados_por_total.T.iloc[:5].plot(figsize=(10,6))"
   ]
  },
  {
   "cell_type": "code",
   "execution_count": null,
   "metadata": {},
   "outputs": [],
   "source": [
    "np.random.seed(42)\n",
    "ordenados_por_total.T.iloc[:20,:].plot(figsize=(10,6))\n",
    "# Formatação eixo Y\n",
    "current_values = plt.gca().get_yticks() # Armazena valores do eixo Y\n",
    "plt.gca().set_yticklabels(['R${:,.0f}'.format(x) for x in current_values]) # Formata e configura rotulo do eixo Y\n",
    "\n",
    "plt.title('Gasto total com saúde por mês/ano')\n",
    "plt.legend(bbox_to_anchor=(1.25, 1.015), loc='upper right')\n",
    "plt.xlabel('Período')\n",
    "plt.ylabel('Valor Gasto')\n",
    "plt.show()"
   ]
  },
  {
   "cell_type": "code",
   "execution_count": null,
   "metadata": {},
   "outputs": [],
   "source": [
    "regiao_especifica = ordenados_por_total[ordenados_por_total['Região'] == 'Sul']\n",
    "regiao_especifica.T.iloc[:10,:].plot(figsize=(8,4))"
   ]
  },
  {
   "cell_type": "markdown",
   "metadata": {},
   "source": [
    "#### Desafio 13: Padronizar os ticks verticas para espaçamento de 12 em 12 unidades (uma vez por ano) *ticks verticais = tamanho e dimensão do período do eixo X*\n",
    "#### Desafio 14: Escolher e utilizar outras cores para personalizar mais o gráfico.\n",
    "#### Desafio 15: Colocar uma grade (grid) horizontal e vertical que não seja intrusivo. "
   ]
  }
 ],
 "metadata": {
  "kernelspec": {
   "display_name": "alura-pos",
   "language": "python",
   "name": "python3"
  },
  "language_info": {
   "codemirror_mode": {
    "name": "ipython",
    "version": 3
   },
   "file_extension": ".py",
   "mimetype": "text/x-python",
   "name": "python",
   "nbconvert_exporter": "python",
   "pygments_lexer": "ipython3",
   "version": "3.12.2"
  }
 },
 "nbformat": 4,
 "nbformat_minor": 2
}
